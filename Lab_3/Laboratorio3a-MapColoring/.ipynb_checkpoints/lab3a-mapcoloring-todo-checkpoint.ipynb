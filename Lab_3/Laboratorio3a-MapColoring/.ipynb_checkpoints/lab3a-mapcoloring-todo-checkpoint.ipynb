{
 "cells": [
  {
   "cell_type": "markdown",
   "id": "441860e1-0e08-46d3-b159-0014ada304aa",
   "metadata": {
    "editable": true,
    "slideshow": {
     "slide_type": ""
    },
    "tags": []
   },
   "source": [
    "# El Problema del Coloreo de Mapas y la Satisfacción de Restricciones (CSPs)\n",
    "\n",
    "El **Problema del Coloreo de Mapas** (*Map-coloring*) es un **ejemplo paradigmático** de la cartografía y la teoría de grafos, ampliamente utilizado en la Inteligencia Artificial para introducir los **Problemas de Satisfacción de Restricciones (CSPs)**.\n",
    "\n",
    "El objetivo fundamental es colorear las regiones de un mapa de tal forma que **dos regiones adyacentes** siempre posean un color diferente.\n",
    "\n",
    "### 🎨 El Teorema de los Cuatro Colores\n",
    "\n",
    "Este problema es famoso por el **Teorema de los Cuatro Colores**, el cual establece que se requiere un mínimo de **cuatro colores** para colorear cualquier mapa planar (un mapa plano, sin regiones no conexas) de esta manera.\n",
    "\n",
    "A pesar de que esta conjetura fue conocida empíricamente por mucho tiempo, su **demostración matemática rigurosa** no fue aceptada formalmente hasta 1976 (por Appel y Haken), siendo notable por ser una de las primeras pruebas que requirió el uso extensivo de un ordenador.\n"
   ]
  },
  {
   "cell_type": "markdown",
   "id": "15138ff4-2188-45d5-81ab-06881c170efc",
   "metadata": {
    "editable": true,
    "slideshow": {
     "slide_type": ""
    },
    "tags": []
   },
   "source": [
    "# ⚙️ Componentes Clave de un Problema de Satisfacción de Restricciones (CSP)\n",
    "\n",
    "Un **Problema de Satisfacción de Restricciones (CSP)** se define formalmente mediante tres componentes fundamentales. Entender esta estructura nos permite modelar y resolver una vasta gama de problemas, incluyendo el Coloreo de Mapas.\n",
    "\n",
    "Podemos descomponer cualquier CSP, como el problema de colorear un mapa, en las siguientes secciones clave:\n",
    "\n"
   ]
  },
  {
   "cell_type": "code",
   "execution_count": null,
   "id": "29d123c4-48d4-48fb-814e-9a568d9010ab",
   "metadata": {
    "editable": true,
    "slideshow": {
     "slide_type": ""
    },
    "tags": []
   },
   "outputs": [],
   "source": [
    "from test_utils import *\n",
    "from public_tests import *"
   ]
  },
  {
   "cell_type": "markdown",
   "id": "c7f4cc81-61aa-4a9c-aecb-ac6afa285a22",
   "metadata": {
    "editable": true,
    "slideshow": {
     "slide_type": ""
    },
    "tags": []
   },
   "source": [
    "### 1. Variables ($\\mathbf{V}$)\n",
    "Son los elementos a los que buscamos asignar un valor o estado aceptable.\n",
    "* **En el Coloreo de Mapas:** Las variables son las **regiones, estados o territorios** individuales del mapa que deben ser coloreados. En este caso se identificarán por las siglas de sus estados en una lista correspondientes a la siguiente imagen:\n",
    "\n",
    "\n",
    " <center>\n",
    "        <img src=\"imgs/map_no_color.png\" alt=\"Mapa de ejemplo para Coloreo\"  style=\"width: 50%; height: auto; display: block; margin: 0 auto;\"\">\n",
    "    </center>"
   ]
  },
  {
   "cell_type": "code",
   "execution_count": null,
   "id": "d9ac62cc-daa6-43b6-bfd9-09d7c5bf278b",
   "metadata": {
    "editable": true,
    "slideshow": {
     "slide_type": ""
    },
    "tags": []
   },
   "outputs": [],
   "source": [
    "variables = #completa la definición de variables como una lista [ \"WA\" , ..."
   ]
  },
  {
   "cell_type": "code",
   "execution_count": null,
   "id": "1829eb8b-72b0-4b26-829f-f04614ec05f5",
   "metadata": {
    "editable": false,
    "slideshow": {
     "slide_type": ""
    },
    "tags": []
   },
   "outputs": [],
   "source": [
    "test_variables(variables)"
   ]
  },
  {
   "cell_type": "markdown",
   "id": "6cf7eb3d-4889-4410-b9b6-694cc0c18ccd",
   "metadata": {
    "editable": true,
    "slideshow": {
     "slide_type": ""
    },
    "tags": []
   },
   "source": [
    "### 2. Dominios ($\\mathbf{D}$)\n",
    "Son el conjunto de todos los **valores posibles** que una variable puede tomar.\n",
    "* **En el Coloreo de Mapas:** El dominio es el conjunto de **colores** disponibles para la asignación (haremos un mapeo de tres colores en este caso p. ej., $D = \\{ \\text{Rojo, Verde, Azul} \\}$). En este caso, el dominio es típicamente el mismo para todas las variables. Para esto debe definirse la lista de colores."
   ]
  },
  {
   "cell_type": "code",
   "execution_count": null,
   "id": "b1f71831-3b1f-421f-9e12-0f922f4346cc",
   "metadata": {
    "editable": true,
    "slideshow": {
     "slide_type": ""
    },
    "tags": []
   },
   "outputs": [],
   "source": [
    "dominios = #completa la lista de dominios "
   ]
  },
  {
   "cell_type": "code",
   "execution_count": null,
   "id": "805ee527-2848-41fa-97d4-d3b50995d9ba",
   "metadata": {
    "editable": false,
    "slideshow": {
     "slide_type": ""
    },
    "tags": []
   },
   "outputs": [],
   "source": [
    "test_domain(dominios)"
   ]
  },
  {
   "cell_type": "markdown",
   "id": "80af7cab-b0a4-4971-bb12-79a61f8c7a0d",
   "metadata": {
    "editable": true,
    "slideshow": {
     "slide_type": ""
    },
    "tags": []
   },
   "source": [
    "### 3. Restricciones ($\\mathbf{C}$)\n",
    "Son las condiciones que **no deben ser violadas** por la asignación de valores a las variables. Estas definen la relación entre las variables.\n",
    "* **En el Coloreo de Mapas:** La restricción principal es que **dos regiones que compartan una frontera común no pueden tener el mismo color**. Formalmente, si $V_i$ y $V_j$ son variables adyacentes, entonces $V_i \\neq V_j$.\n",
    "\n",
    "Para definir las restricciones definiremos un grafo llamado vecinos como una estructura de datos de tipo diccionario que permita representar a los estados y a sus vecinos. Aquí la imagen del mapa de nuevo para que completes el grafo:\n",
    "\n",
    " <center>\n",
    "        <img src=\"imgs/map.png\" alt=\"Mapa de ejemplo para Coloreo\" style=\"max-width: 80%; height: auto;\">\n",
    "    </center>\n",
    "\n"
   ]
  },
  {
   "cell_type": "code",
   "execution_count": null,
   "id": "9c401b2a-8896-4272-9806-713386b9064c",
   "metadata": {
    "editable": true,
    "slideshow": {
     "slide_type": ""
    },
    "tags": []
   },
   "outputs": [],
   "source": [
    "vecinos = {}\n",
    "vecinos[\"WA\"] = [\"NT\", \"SA\"]\n",
    "# completa el grafo de vecinos"
   ]
  },
  {
   "cell_type": "code",
   "execution_count": null,
   "id": "47d1afb6-e9e0-4d3a-8ab2-b4ccaa3a6382",
   "metadata": {
    "editable": false,
    "slideshow": {
     "slide_type": ""
    },
    "tags": []
   },
   "outputs": [],
   "source": [
    "test_region_graph(vecinos)"
   ]
  },
  {
   "cell_type": "markdown",
   "id": "a6b9cd91-f7a5-41f0-86ed-a44ea87b48d3",
   "metadata": {
    "editable": true,
    "slideshow": {
     "slide_type": ""
    },
    "tags": []
   },
   "source": [
    "# 🔎 Formulación del Problema de Coloreado como Búsqueda\n",
    "\n",
    "Podemos concebir la resolución de un **Problema de Satisfacción de Restricciones (CSP)** como un proceso de **búsqueda** en un espacio de estados. El objetivo es alcanzar un estado meta donde todas las restricciones se cumplen.\n",
    "\n",
    "## Definición de Estados\n",
    "\n",
    "En el contexto de los CSPs, los estados se definen por las **asignaciones de valores realizadas hasta el momento** a las variables.\n",
    "\n",
    "* **Estados (Nodos):** Una asignación **parcial** de valores a un subconjunto de variables.\n",
    "    * *Ejemplo:* $\\left\\{ \\text{WA: Rojo, NT: Verde} \\right\\}$\n",
    "\n",
    "## Componentes del Proceso de Búsqueda\n",
    "\n",
    "Para aplicar un algoritmo de búsqueda (como el *backtracking*) al CSP, definimos los siguientes componentes:\n",
    "\n",
    "| Componente | Definición en CSP |\n",
    "| :--- | :--- |\n",
    "| **Estado Inicial** | La **asignación vacía** $\\left\\{ \\right\\}$, donde ninguna variable ha sido asignada. | Definimos la variable estados para almacenar las asignaciones.\n",
    "| **Función de Sucesor** | Generar un nuevo estado al **asignar un valor** a una variable que **aún no ha sido asignada**. |\n",
    "| **Prueba de Objetivo** | La asignación actual es **completa** (todas las variables tienen un valor) y **satisface todas las restricciones** del problema. |\n"
   ]
  },
  {
   "cell_type": "markdown",
   "id": "7aface55-dfd3-47f1-887b-af1c389f14bd",
   "metadata": {
    "editable": true,
    "slideshow": {
     "slide_type": ""
    },
    "tags": []
   },
   "source": [
    "El primer paso es definir una variable de tipo diccionario que almacenará la información de colores de las regiones del mapa"
   ]
  },
  {
   "cell_type": "code",
   "execution_count": null,
   "id": "3be5a62d-f5b4-4ab7-b3f2-251b12c61bd5",
   "metadata": {
    "editable": true,
    "slideshow": {
     "slide_type": ""
    },
    "tags": []
   },
   "outputs": [],
   "source": [
    "colores_de_regiones = {}"
   ]
  },
  {
   "cell_type": "markdown",
   "id": "19a23832-26b9-477f-aa83-aa37ec914802",
   "metadata": {
    "editable": true,
    "slideshow": {
     "slide_type": ""
    },
    "tags": []
   },
   "source": [
    "El paso siguiente es definir si una asignación parcial es consistente con las asignaciones hechas a sus vecinos. Para esto definiremos una función llamada `es_consistente(region, color)` que recibe un estado y un color y verificará si al asignar el color a una region se tiene consistencia con las asignaciones hechas a los vecinos."
   ]
  },
  {
   "cell_type": "code",
   "execution_count": null,
   "id": "11c3219b-f991-4b4a-8e5c-9f5291b262f1",
   "metadata": {
    "editable": true,
    "slideshow": {
     "slide_type": ""
    },
    "tags": []
   },
   "outputs": [],
   "source": [
    "def es_consistente(region, color):\n",
    "    \"\"\"\n",
    "    Verifica si asignar 'color' a la 'region' es consistente con las\n",
    "    asignaciones ya hechas a sus vecinos.\n",
    "    \"\"\"\n",
    "    # Si el estado no tiene vecinos, la asignación siempre es válida \n",
    "    if region not in vecinos:\n",
    "        return True\n",
    "\n",
    "    # Iteramos sobre los vecinos de una region dada\n",
    "    for neighbor in None:  #reemplazar None por los vecinos de region        \n",
    "        if neighbor in None: # Solo chequeamos vecinos que ya han sido asignados en colores_de_regiones\n",
    "            color_of_neighbor = None # reemplazar None para obtener el color del vecino\n",
    "            \n",
    "            # Si el color del vecino es IGUAL al color propuesto, violamos la restricción.\n",
    "            if None == None: #reemplazar None para la condición dada \n",
    "                return False\n",
    "                \n",
    "    return True"
   ]
  },
  {
   "cell_type": "code",
   "execution_count": null,
   "id": "caaecf01-8662-4e84-9084-ed19a3498898",
   "metadata": {
    "editable": false,
    "slideshow": {
     "slide_type": ""
    },
    "tags": []
   },
   "outputs": [],
   "source": [
    "print(\"✅ Casos que DEBERÍAN ser consistentes:\")\n",
    "for i, asignacion in enumerate(asignaciones_validas, start=1):\n",
    "    global colores_de_regiones_test\n",
    "    colores_de_regiones = asignacion\n",
    "    es_valido = all(es_consistente(r, c) for r, c in asignacion.items())\n",
    "    print(f\"  Caso válido {i}: {'Correcto ✅' if es_valido else 'Error ❌'}\")\n",
    "\n",
    "print(\"\\n❌ Casos que DEBERÍAN ser inconsistentes:\")\n",
    "for i, asignacion in enumerate(asignaciones_invalidas, start=1):\n",
    "    colores_de_regiones = asignacion\n",
    "    es_valido = all(es_consistente(r, c) for r, c in asignacion.items())\n",
    "    print(f\"  Caso inválido {i}: {'Error ❌' if es_valido else 'Correcto ✅ (detectó inconsistencia)'}\")\n",
    "\n",
    "colores_de_regiones = {}"
   ]
  },
  {
   "cell_type": "markdown",
   "id": "feb5c85e-ca23-47fd-8d1e-d79e1cd20912",
   "metadata": {
    "editable": true,
    "slideshow": {
     "slide_type": ""
    },
    "tags": []
   },
   "source": [
    "## 🔍 Construcción del Algoritmo de Búsqueda por Retroceso (*Backtracking Search*)\n",
    "\n",
    "### 🧠 Idea general\n",
    "\n",
    "El algoritmo intenta construir una asignación completa de valores a las variables **paso a paso**, probando una posibilidad, verificando si cumple las restricciones, y **retrocediendo (backtracking)** cuando encuentra un conflicto.\n",
    "\n",
    "En esencia:\n",
    "\n",
    "> **Backtracking = DFS + Ordenamiento de Variables + Poda por violación de restricciones**\n",
    "\n",
    "- **DFS (Depth-First Search)**: el algoritmo explora recursivamente todas las combinaciones posibles, igual que una búsqueda en profundidad.\n",
    "- **Poda**: si una asignación parcial viola alguna restricción, esa rama se descarta inmediatamente (no se sigue explorando).\n",
    "\n",
    "---\n",
    "\n",
    "### 🧩 Descripción del pseudocódigo\n",
    "\n",
    " <center>\n",
    "        <img src=\"imgs/backtrackingalg.jpg\" alt=\"Mapa de ejemplo para Coloreo\" style=\"max-width: 80%; height: auto;\">\n",
    "    </center>\n",
    "\n",
    "#### 1. `Backtracking-Search(csp)`\n",
    "- Es la función principal.\n",
    "- Inicia la búsqueda con una **asignación vacía** `{}`.\n",
    "- Llama a la función recursiva `Recursive-Backtracking`.\n"
   ]
  },
  {
   "cell_type": "code",
   "execution_count": null,
   "id": "3e474c4e-041c-4c65-912e-ce201f085ddd",
   "metadata": {
    "editable": true,
    "slideshow": {
     "slide_type": ""
    },
    "tags": []
   },
   "outputs": [],
   "source": [
    "def backtracking_search(variables):\n",
    "    return recursive_backtracking(variables)"
   ]
  },
  {
   "cell_type": "markdown",
   "id": "995efbb7-8388-48d7-8e05-daf4deea0d7a",
   "metadata": {
    "editable": true,
    "slideshow": {
     "slide_type": ""
    },
    "tags": []
   },
   "source": [
    "#### 2. `Recursive-Backtracking(assignment, csp)`\n",
    "- Si la asignación está **completa** (todas las variables tienen valor), se devuelve como solución.\n",
    "- Si no, selecciona una **variable no asignada** (`Select-Unassigned-Variable`).\n",
    "- Luego, para cada **valor posible** en el dominio de esa variable (`Order-Domain-Values`):\n",
    "  - Verifica si el valor es **consistente** con las restricciones actuales.\n",
    "  - Si lo es:\n",
    "    - Se **añade la asignación** `{var = value}`.\n",
    "    - Se llama recursivamente a la función con esta nueva asignación.\n",
    "    - Si la llamada devuelve una solución (no `failure`), se propaga ese resultado hacia arriba.\n",
    "  - Si la recursión no tuvo éxito, **se elimina** la asignación (`remove {var=value}`) y se prueban otros valores.\n",
    "- Si ningún valor conduce a una solución, la función devuelve `failure` y se **retrocede** al nivel anterior.\n"
   ]
  },
  {
   "cell_type": "code",
   "execution_count": null,
   "id": "8bab4f7e-52fb-4e46-a56d-2224a0cca94d",
   "metadata": {
    "editable": true,
    "slideshow": {
     "slide_type": ""
    },
    "tags": []
   },
   "outputs": [],
   "source": [
    "def recursive_backtracking(variables):\n",
    "    \"\"\"\n",
    "    Implementa el algoritmo de Backtracking para encontrar una solución al CSP.\n",
    "    \n",
    "    variables: La lista de variables (regiones) que quedan por asignar.\n",
    "    \"\"\"\n",
    "    # Prueba de Objetivo: Si la lista de estados por asignar está vacía, ¡ÉXITO!\n",
    "    if not variables:\n",
    "        # Se ha encontrado una asignación completa y válida.\n",
    "        return True \n",
    "    \n",
    "    # Seleccionar la Siguiente Variable \n",
    "    current_state = variables[None] #completar obteniendo el valor de la primera posicion de la lista variables\n",
    "    remaining_states = variables[None] #completar obteniendo el resto de la lista\n",
    "    \n",
    "    # Iterar sobre el Dominio (valores/colores)\n",
    "    for color in dominios:\n",
    "        \n",
    "        # 1. Verificación: ¿Es el color consistente para el estado actual?\n",
    "        if es_consistente(None, None): #completar\n",
    "            \n",
    "            # 2. Asignación (Hacer la jugada)\n",
    "            colores_de_regiones[current_state] = color\n",
    "            \n",
    "            # 3. Llamada Recursiva (Explorar en profundidad)\n",
    "            if recursive_backtracking(None): #Cambiar none por variables restantes por asignar\n",
    "                # Si la llamada recursiva retorna True, hemos encontrado una solución completa.\n",
    "                return True\n",
    "                \n",
    "            # 4. Retroceso (Backtrack): Si la llamada recursiva retorna False, llegó a este punto\n",
    "            #    significa que esta elección de 'color' llevó a un callejón sin salida.\n",
    "            #    Deshacemos la asignación para probar el siguiente color disponible.\n",
    "            \n",
    "            del colores_de_regiones[current_state] # EL PASO CLAVE DEL BACKTRACKING\n",
    "            \n",
    "    # Si probamos todos los colores y ninguno funcionó, fallamos en este nivel.\n",
    "    return False "
   ]
  },
  {
   "cell_type": "markdown",
   "id": "123ae593-af83-46af-871a-a2dcc3e1d2f9",
   "metadata": {
    "editable": true,
    "slideshow": {
     "slide_type": ""
    },
    "tags": []
   },
   "source": [
    "## ▶️ Llamado al Algoritmo de Búsqueda por Retroceso\n",
    "\n",
    "Una vez definido el algoritmo de **búsqueda por retroceso** (`backtracking_search`), se realiza su ejecución mediante el siguiente bloque de código:\n"
   ]
  },
  {
   "cell_type": "code",
   "execution_count": null,
   "id": "6499bbb6-ab6c-4eab-825b-3b7de16a328b",
   "metadata": {
    "editable": false,
    "slideshow": {
     "slide_type": ""
    },
    "tags": []
   },
   "outputs": [],
   "source": [
    "found_solution =  backtracking_search(variables)\n",
    "\n",
    "if found_solution:\n",
    "    print(\"✅ Solución Encontrada (Asignación Consistente):\")\n",
    "    # Imprime la solución en un formato legible\n",
    "    for region, color in sorted(colores_de_regiones.items()):\n",
    "        print(f\"   {region}: {color}\")\n",
    "else:\n",
    "    print(\"❌ No se encontró solución con el dominio de colores dado.\")\n"
   ]
  },
  {
   "cell_type": "markdown",
   "id": "69eb7723-38e0-466b-b166-572a961e0c09",
   "metadata": {
    "editable": true,
    "slideshow": {
     "slide_type": ""
    },
    "tags": []
   },
   "source": [
    "### 🔁 Flujo resumido de Backtraking\n",
    "\n",
    "1. Elegir variable no asignada.  \n",
    "2. Probar un valor posible.  \n",
    "3. Verificar restricciones.  \n",
    "4. Si cumple, continuar recursivamente.  \n",
    "5. Si no cumple o no lleva a solución → deshacer y probar otro valor.  \n",
    "\n",
    "---\n",
    "\n",
    "### 💡 Intuición\n",
    "\n",
    "El algoritmo construye una **búsqueda en árbol**:\n",
    "- Cada nodo representa una asignación parcial.\n",
    "- Cada nivel corresponde a una variable.\n",
    "- Los caminos inconsistentes se **podan tempranamente**, evitando explorar soluciones imposibles."
   ]
  },
  {
   "cell_type": "markdown",
   "id": "80633ce5-a71e-48a9-add6-d4b023cd3f46",
   "metadata": {
    "editable": true,
    "slideshow": {
     "slide_type": ""
    },
    "tags": []
   },
   "source": [
    "\n",
    "## Referencias\n",
    "\n",
    "[1] Russell, S., & Norvig, P.: **Artificial Intelligence: A Modern Approach**. Pearson, Upper Saddle River, 4th edition, 2020, ISBN 978-0134610993.\n",
    "\n",
    "[2] **Material didáctico y ejercicios sobre Problemas de Satisfacción de Restricciones (CSP)**.\n",
    "[https://inst.eecs.berkeley.edu/~cs188/textbook/csp/](https://inst.eecs.berkeley.edu/~cs188/textbook/csp/)\n",
    "\n",
    "[3] **Ejemplo de código para el problema de coloreado de mapas (CSP)**.\n",
    "[https://github.com/ahforoughi/map_coloring_csp/tree/main](https://github.com/ahforoughi/map_coloring_csp/tree/main)\n",
    "\n"
   ]
  }
 ],
 "metadata": {
  "kernelspec": {
   "display_name": "Python 3 (ipykernel)",
   "language": "python",
   "name": "python3"
  },
  "language_info": {
   "codemirror_mode": {
    "name": "ipython",
    "version": 3
   },
   "file_extension": ".py",
   "mimetype": "text/x-python",
   "name": "python",
   "nbconvert_exporter": "python",
   "pygments_lexer": "ipython3",
   "version": "3.12.7"
  }
 },
 "nbformat": 4,
 "nbformat_minor": 5
}
