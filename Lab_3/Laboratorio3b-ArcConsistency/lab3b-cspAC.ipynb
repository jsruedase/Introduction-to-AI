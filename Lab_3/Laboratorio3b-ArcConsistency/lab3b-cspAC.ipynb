{
 "cells": [
  {
   "cell_type": "markdown",
   "id": "80dbf4e8-d0ea-4ac2-8e31-1609ff5d88ff",
   "metadata": {
    "editable": true,
    "slideshow": {
     "slide_type": ""
    },
    "tags": []
   },
   "source": [
    "# Resolución de CSPs con Propagación de Restricciones mediante Consistencia de Arcos\n",
    "\n",
    "Aparte de la búsqueda en el espacio de estados, la programación con restricciones nos permite realizar un tipo específico de inferencia llamado **Propagación de Restricciones**, que ayuda a eliminar partes no deseadas del espacio de estados basándose en la satisfacción de las restricciones.\n",
    "\n",
    "Una red es **consistente en nodos** (node-consistent) si todas las variables en ella también son consistentes en nodos, es decir, se satisfacen las restricciones unarias sobre todas las variables. También podríamos extender esta misma definición a las restricciones binarias, en cuyo caso la red se llamaría **consistente en arcos** (arc-consistent).\n",
    "\n",
    "Podemos descomponer cualquier CSP, como el problema de colorear un mapa, en las siguientes secciones clave:\n",
    "\n",
    "### 1. Variables, dominios y vecinos\n",
    "Son los elementos a los que buscamos asignar un valor o estado aceptable.\n",
    "Las variables son las **regiones** individuales del mapa que deben ser coloreados. En este caso se identificarán por las siglas de sus estados en una lista correspondientes a la siguiente imagen:\n",
    "\n",
    "\n",
    " <center>\n",
    "        <img src=\"imgs/map_no_color.png\" alt=\"Mapa de ejemplo para Coloreo\" >\n",
    "    </center>\n"
   ]
  },
  {
   "cell_type": "code",
   "execution_count": 1,
   "id": "9b828911-73a5-4dfd-a1ee-b92ac6a7c95e",
   "metadata": {},
   "outputs": [],
   "source": [
    "from collections import deque\n",
    "from util import *\n",
    "from test_utils import *\n",
    "from public_tests import *"
   ]
  },
  {
   "cell_type": "code",
   "execution_count": 2,
   "id": "443e8be9-5df7-4a4c-b5d1-57e1bb545639",
   "metadata": {
    "editable": true,
    "slideshow": {
     "slide_type": ""
    },
    "tags": []
   },
   "outputs": [],
   "source": [
    "variables = [\"WA\", \"NT\", \"SA\", \"Q\", \"NSW\", \"V\", \"T\"]"
   ]
  },
  {
   "cell_type": "markdown",
   "id": "efa088da-9301-4dc7-8d35-9acdb8782893",
   "metadata": {},
   "source": [
    "Los dominios para programar la solución por consistencia de arcos, comenzarán con los tres colores posibles para cada región."
   ]
  },
  {
   "cell_type": "code",
   "execution_count": 3,
   "id": "c4e2f7cd-13a4-4110-8e6a-5d666e317960",
   "metadata": {},
   "outputs": [
    {
     "name": "stdout",
     "output_type": "stream",
     "text": [
      "{'WA': ['rojo', 'verde', 'azul'], 'NT': ['rojo', 'verde', 'azul'], 'SA': ['rojo', 'verde', 'azul'], 'Q': ['rojo', 'verde', 'azul'], 'NSW': ['rojo', 'verde', 'azul'], 'V': ['rojo', 'verde', 'azul'], 'T': ['rojo', 'verde', 'azul']}\n"
     ]
    }
   ],
   "source": [
    "dominios = {var: [\"rojo\", \"verde\", \"azul\"] for var in variables}\n",
    "print(dominios)"
   ]
  },
  {
   "cell_type": "markdown",
   "id": "ee0f05d0-30d3-494f-a118-9af3d182434e",
   "metadata": {},
   "source": [
    "Para definir las restricciones definiremos un grafo llamado vecinos como una estructura de datos de tipo diccionario que permita representar a los estados y a sus vecinos."
   ]
  },
  {
   "cell_type": "code",
   "execution_count": 4,
   "id": "af1c993e-805f-42dc-9418-dc4d6babf852",
   "metadata": {},
   "outputs": [],
   "source": [
    "vecinos = {\n",
    "    \"WA\": [\"NT\", \"SA\"],\n",
    "    \"NT\": [\"WA\", \"SA\", \"Q\"],\n",
    "    \"SA\": [\"WA\", \"NT\", \"Q\", \"NSW\", \"V\"],\n",
    "    \"Q\":  [\"NT\", \"SA\", \"NSW\"],\n",
    "    \"NSW\":[\"Q\", \"SA\", \"V\"],\n",
    "    \"V\":  [\"SA\", \"NSW\"],\n",
    "    \"T\":  []\n",
    "}"
   ]
  },
  {
   "cell_type": "markdown",
   "id": "0157636d-b349-458a-ac22-7a3034d08042",
   "metadata": {
    "editable": true,
    "slideshow": {
     "slide_type": ""
    },
    "tags": []
   },
   "source": [
    "### 2.Implementación de `remove_inconsistent_values(Xi, Xj, dominios)`\n",
    "\n",
    "Esta función implementa el **procedimiento `REMOVE-INCONSISTENT-VALUES(Xi, Xj)`** del algoritmo **AC-3**.  Su objetivo es **eliminar valores del dominio de una variable `Xi`** que sean inconsistentes con la variable `Xj`.\n",
    "\n",
    "<center>\n",
    "        <img src=\"imgs/ac3.png\" alt=\"AC-3\" >\n",
    "    </center>\n",
    "\n",
    "En los **problemas de satisfacción de restricciones (CSP)**, la consistencia de arcos significa que **para cada valor de `Xi` debe existir al menos un valor posible en `Xj`** que no viole las restricciones binarias (por ejemplo, que `Xi` y `Xj` no tomen el mismo color en el problema de coloreo de mapas). Si no existe tal valor, el valor de `Xi` se elimina de su dominio.\n",
    "\n",
    "#### Lógica paso a paso\n",
    "\n",
    "1. Recorrer cada valor `x` en el dominio de `Xi`.\n",
    "2. Verificar si existe **algún valor `y` en el dominio de `Xj`** que sea **compatible** con `x`.\n",
    "3. Si no existe tal `y`, eliminar `x` del dominio de `Xi` porque **no puede formar parte de una solución consistente**.\n",
    "4. Retornar `True` si se eliminó al menos un valor; de lo contrario, retornar `False`.\n",
    "\n",
    "Completa la implementación de remove_inconsistent_values:\n"
   ]
  },
  {
   "cell_type": "code",
   "execution_count": 5,
   "id": "77eb8da3-50c7-40bd-8729-9116c381236e",
   "metadata": {
    "editable": true,
    "slideshow": {
     "slide_type": ""
    },
    "tags": []
   },
   "outputs": [],
   "source": [
    "def remove_inconsistent_values(Xi, Xj, dominios):\n",
    "    \"\"\"\n",
    "    Implementa la función REMOVE-INCONSISTENT-VALUES(Xi, Xj)\n",
    "    del pseudocódigo de AC-3.\n",
    "\n",
    "    Parámetros:\n",
    "        Xi, Xj : variables involucradas en la restricción binaria.\n",
    "        dominios : diccionario { variable: [valores posibles] }.\n",
    "\n",
    "    Retorna:\n",
    "        True si se eliminaron valores del dominio de Xi,\n",
    "        False\n",
    "    \"\"\"\n",
    "    removed = False\n",
    "    \n",
    "    for x in dominios[Xi]: #completar recorrer cada valor x en el dominio de Xi.        \n",
    "        # entonces (Xi, Xj) es inconsistente bajo esa asignación.\n",
    "        if not any(x != y for y in dominios[Xj]): # Si ningún valor y en el dominio de Xj es diferente de x,\n",
    "            dominios[Xi].remove(x) #elimina x del dominio de Xi\n",
    "            removed = True #si se eliminó al menos un valor retorna True\n",
    "    return removed"
   ]
  },
  {
   "cell_type": "code",
   "execution_count": 6,
   "id": "eb566336-28aa-4d55-85f2-9df759567e7d",
   "metadata": {
    "editable": false,
    "slideshow": {
     "slide_type": ""
    },
    "tags": []
   },
   "outputs": [
    {
     "name": "stdout",
     "output_type": "stream",
     "text": [
      "=======================================\n",
      "🔍 RESULTADOS DE LAS PRUEBAS\n",
      "=======================================\n",
      "✅ OK - Caso 1: Eliminación simple\n",
      "✅ OK - Caso 2: Sin conflicto\n",
      "✅ OK - Caso 3: Dominio vacío tras eliminación\n",
      "✅ OK - Caso 4: Al menos un valor compatible\n",
      "✅ OK - Caso 5: Propagación de restricción a Xk\n",
      "=======================================\n",
      "✔️ 5/5 pruebas superadas.\n",
      "=======================================\n"
     ]
    }
   ],
   "source": [
    "def run_remove_inconsistent_tests(cases):\n",
    "    tests = []\n",
    "\n",
    "    for case in cases:\n",
    "        Xi = case[\"input\"][\"Xi\"]\n",
    "        Xj = case[\"input\"][\"Xj\"]\n",
    "        dominios = {k: v[:] for k, v in case[\"input\"][\"dominios\"].items()}  # copia segura\n",
    "\n",
    "        result = remove_inconsistent_values(Xi, Xj, dominios)\n",
    "        \n",
    "        # Si hay propagaciones indicadas, aplicarlas secuencialmente\n",
    "        for arc in case[\"input\"].get(\"propagation\", []):\n",
    "            remove_inconsistent_values(arc[0], arc[1], dominios)\n",
    "        \n",
    "        ok = (result == case[\"expected_result\"] and dominios == case[\"expected_dominios\"])\n",
    "        tests.append((ok, case[\"desc\"]))\n",
    "\n",
    "    # ------------------------------------------------\n",
    "    #     Resultados\n",
    "    # ------------------------------------------------\n",
    "    passed = sum(1 for ok, _ in tests if ok)\n",
    "    total = len(tests)\n",
    "    \n",
    "    print(\"=======================================\")\n",
    "    print(\"🔍 RESULTADOS DE LAS PRUEBAS\")\n",
    "    print(\"=======================================\")\n",
    "    for ok, desc in tests:\n",
    "        status = \"✅ OK\" if ok else \"❌ FALLÓ\"\n",
    "        print(f\"{status} - {desc}\")\n",
    "    print(\"=======================================\")\n",
    "    print(f\"✔️ {passed}/{total} pruebas superadas.\")\n",
    "    print(\"=======================================\")\n",
    "\n",
    "# Ejecutar pruebas\n",
    "run_remove_inconsistent_tests(test_cases_remove_inconsistent_values)\n",
    "\n"
   ]
  },
  {
   "cell_type": "markdown",
   "id": "501e226d-8700-4fb2-bf83-0ad4c8f1e0d0",
   "metadata": {
    "editable": true,
    "slideshow": {
     "slide_type": ""
    },
    "tags": []
   },
   "source": [
    "## 3. Programando el Algoritmo AC-3\n",
    "\n",
    "El **algoritmo AC-3 (Arc Consistency 3)** es una técnica fundamental en los **Problemas de Satisfacción de Restricciones (CSP)**, como el **coloreo de mapas**.  Su objetivo es **reducir los dominios de las variables** eliminando valores inconsistentes antes (o durante) la búsqueda, ayudando a **podar el espacio de búsqueda**. El algoritmo de AC-3 puede implementarse de la siguiente manera:\n",
    "\n",
    "1. **Inicializar una cola** con todos los arcos del problema:  \n",
    "   pares ordenados `(Xi, Xj)` donde `Xi` y `Xj` son vecinos (tienen una restricción entre sí).\n",
    "\n",
    "2. Mientras la cola **no esté vacía**:\n",
    "   - Sacar un arco `(Xi, Xj)` de la cola.\n",
    "   - Llamar a `remove_inconsistent_values(Xi, Xj, dominios)`:\n",
    "     - Si elimina algún valor del dominio de `Xi`, entonces debemos revisar todos los arcos `(Xk, Xi)` donde `Xk` también es vecino de `Xi` (excepto `Xj`).\n",
    "     - Si un dominio queda vacío, **no hay solución posible**.\n",
    "\n",
    "3. Si terminamos sin vaciar ningún dominio completamente, el problema está **arc-consistente**.\n",
    "\n",
    "Completa la implementación de ac3:\n"
   ]
  },
  {
   "cell_type": "code",
   "execution_count": 7,
   "id": "e15a174c-916d-4723-9a12-b768087103a4",
   "metadata": {
    "editable": true,
    "slideshow": {
     "slide_type": ""
    },
    "tags": []
   },
   "outputs": [],
   "source": [
    "def ac3(variables, dominios, vecinos):\n",
    "    \"\"\"\n",
    "    Implementa el algoritmo AC-3 para lograr consistencia de arcos.\n",
    "\n",
    "    Parámetros:\n",
    "        variables : lista de variables del CSP (por ejemplo, regiones del mapa).\n",
    "        dominios  : diccionario { variable: [valores posibles] }.\n",
    "        vecinos   : diccionario { variable: [otras variables con restricciones binarias] }.\n",
    "\n",
    "    Retorna:\n",
    "        True si los dominios son consistentes.\n",
    "        False si algún dominio queda vacío (no hay solución posible).\n",
    "    \"\"\"\n",
    "    # Inicializamos la cola con todos los arcos (Xi, Xj)\n",
    "    queue = deque((Xi, Xj) for Xi in variables for Xj in vecinos[Xi])\n",
    "\n",
    "    while queue:\n",
    "        Xi, Xj = queue.popleft() #saca un arco de la cola\n",
    "\n",
    "        if remove_inconsistent_values(Xi, Xj, dominios): #remueve valores inconsistentes dados Xi, Xj, dominios\n",
    "            if not dominios[Xi]: #Si no quedan valores posibles en Xi\n",
    "                return False  # No hay solución posible\n",
    "\n",
    "            for Xk in vecinos[Xi]: #evalua vecinos de Xi \n",
    "                if Xk != Xj: #si Xk diferente a Xj\n",
    "                    queue.append((Xk, Xi)) #propaga la restriccion agregando a la cola la tupla (Xk, Xi)\n",
    "    \n",
    "    return True"
   ]
  },
  {
   "cell_type": "code",
   "execution_count": 8,
   "id": "efee152b-97ec-4a4a-9f89-e6e35b07ef02",
   "metadata": {
    "editable": false,
    "slideshow": {
     "slide_type": ""
    },
    "tags": []
   },
   "outputs": [
    {
     "name": "stdout",
     "output_type": "stream",
     "text": [
      "=======================================\n",
      "🔍 RESULTADOS DE LAS PRUEBAS\n",
      "=======================================\n",
      "✅ OK - Caso 1: No debe eliminar valores si no hay conflicto.\n",
      "✅ OK - Caso 2: Debe eliminar el valor 'rojo' de A.\n",
      "✅ OK - Caso 3: Xi debe quedar vacío si todos los valores son inconsistentes.\n",
      "✅ OK - Caso 4: No debe eliminar valores si hay al menos un color distinto en B.\n",
      "✅ OK - Caso 5: Debe eliminar 'azul' de A, dejando solo 'rojo'.\n",
      "✅ OK - Caso 6: Propagación correcta A -> B -> C (B pierde 'rojo', luego C pierde 'verde').\n",
      "=======================================\n",
      "✔️ 6/6 pruebas superadas.\n",
      "=======================================\n"
     ]
    }
   ],
   "source": [
    "def run_remove_inconsistent_tests(cases):\n",
    "    \"\"\"\n",
    "    Ejecuta todos los casos de prueba definidos en test_cases_remove_inconsistent_values.\n",
    "    \"\"\"\n",
    "    tests = []\n",
    "\n",
    "    for case in cases:\n",
    "        Xi = case[\"input\"][\"Xi\"]\n",
    "        Xj = case[\"input\"][\"Xj\"]\n",
    "        dominios = {k: v[:] for k, v in case[\"input\"][\"dominios\"].items()}  # copia profunda\n",
    "\n",
    "        result = remove_inconsistent_values(Xi, Xj, dominios)\n",
    "\n",
    "        # Caso especial: propagación de restricciones (A -> B -> C)\n",
    "        if case[\"input\"].get(\"propagacion\"):\n",
    "            _ = remove_inconsistent_values(\"C\", \"B\", dominios)\n",
    "\n",
    "        ok = (result == case[\"expected_result\"] and dominios == case[\"expected_dominios\"])\n",
    "        tests.append((ok, case[\"desc\"]))\n",
    "\n",
    "    # ------------------------------------------------\n",
    "    #  Resultados\n",
    "    # ------------------------------------------------\n",
    "    passed = sum(1 for ok, _ in tests if ok)\n",
    "    total = len(tests)\n",
    "    \n",
    "    print(\"=======================================\")\n",
    "    print(\"🔍 RESULTADOS DE LAS PRUEBAS\")\n",
    "    print(\"=======================================\")\n",
    "    for ok, desc in tests:\n",
    "        status = \"✅ OK\" if ok else \"❌ FALLÓ\"\n",
    "        print(f\"{status} - {desc}\")\n",
    "    print(\"=======================================\")\n",
    "    print(f\"✔️ {passed}/{total} pruebas superadas.\")\n",
    "    print(\"=======================================\")\n",
    "\n",
    "# Ejecutar las pruebas\n",
    "run_remove_inconsistent_tests(test_cases_remove_inconsistent_values_ac_3)\n"
   ]
  },
  {
   "cell_type": "markdown",
   "id": "8d59e627-8704-4ce7-8186-7c91b8f7bcdc",
   "metadata": {
    "editable": true,
    "slideshow": {
     "slide_type": ""
    },
    "tags": []
   },
   "source": [
    "### ¿Qué hace AC-3 en la práctica?\n",
    "\n",
    "- **Elimina valores inconsistentes** antes de usar backtracking.  \n",
    "- **Reduce el espacio de búsqueda**, haciendo que la búsqueda sea más eficiente.  \n",
    "- **No garantiza una solución completa**, pero deja los dominios lo más “limpios” posible.  \n"
   ]
  },
  {
   "cell_type": "markdown",
   "id": "3af51841-31fd-4ced-90d0-9c5907b67e43",
   "metadata": {
    "editable": true,
    "slideshow": {
     "slide_type": ""
    },
    "tags": []
   },
   "source": [
    "\n",
    "## 4. Conexión con Backtracking\n",
    "\n",
    "El **AC-3** puede integrarse con **Backtracking** de dos formas:\n",
    "\n",
    "**Antes de iniciar la búsqueda:**  \n",
    "   Se ejecuta para reducir los dominios iniciales y evitar ramas inútiles. Puedes ejecutar la celda a continuación para observar como se filtran los dominios y luego mediante backtracking se encuentra la solución. Al inicializar \"WA\" en azul, se elimina \"azul\" de NT y SA. Observa los print.\n"
   ]
  },
  {
   "cell_type": "code",
   "execution_count": 9,
   "id": "593b4b63-e547-4171-8098-da459211a8f1",
   "metadata": {
    "editable": false,
    "slideshow": {
     "slide_type": ""
    },
    "tags": []
   },
   "outputs": [
    {
     "name": "stdout",
     "output_type": "stream",
     "text": [
      "dominios antes: {'WA': ['azul'], 'NT': ['rojo', 'verde', 'azul'], 'SA': ['rojo', 'verde', 'azul'], 'Q': ['rojo', 'verde', 'azul'], 'NSW': ['rojo', 'verde', 'azul'], 'V': ['rojo', 'verde', 'azul'], 'T': ['rojo', 'verde', 'azul']}\n",
      "dominios después de AC-3: {'WA': ['azul'], 'NT': ['rojo', 'verde'], 'SA': ['rojo', 'verde'], 'Q': ['rojo', 'verde', 'azul'], 'NSW': ['rojo', 'verde', 'azul'], 'V': ['rojo', 'verde', 'azul'], 'T': ['rojo', 'verde', 'azul']}\n",
      "\n",
      "✅ Solución encontrada con AC-3 + Backtracking:\n",
      "\n",
      "WA: azul\n",
      "NT: rojo\n",
      "SA: verde\n",
      "Q: azul\n",
      "NSW: rojo\n",
      "V: azul\n",
      "T: rojo\n"
     ]
    }
   ],
   "source": [
    "# Aplicar AC-3\n",
    "dominios = {var: [\"rojo\", \"verde\", \"azul\"] for var in variables}\n",
    "dominios[\"WA\"] = [\"azul\"]\n",
    "print(\"dominios antes:\", dominios)\n",
    "ac3(variables, dominios, vecinos)\n",
    "print(\"dominios después de AC-3:\", dominios)\n",
    "# Aplicar Backtracking\n",
    "solucion = backtracking({}, dominios, vecinos, variables)\n",
    "\n",
    "if solucion:\n",
    "    print(\"\\n✅ Solución encontrada con AC-3 + Backtracking:\\n\")\n",
    "    for var, color in solucion.items():\n",
    "       print(f\"{var}: {color}\")\n",
    "else:\n",
    "    print(\"❌ No se encontró solución con el dominio de colores dado.\")"
   ]
  },
  {
   "cell_type": "markdown",
   "id": "995933a6-47bf-4255-bc58-0ddf07eb9b68",
   "metadata": {
    "editable": true,
    "slideshow": {
     "slide_type": ""
    },
    "tags": []
   },
   "source": [
    "**Durante la búsqueda:**  \n",
    "   Se aplica después de cada asignación parcial para **mantener la consistencia local**.\n",
    "\n",
    "Estos algoritmos combinan **AC-3 + Backtracking**, para definir `bracktrack_mac` (backtracking maintaining arc consistency) logrando búsquedas más **eficientes** en problemas grandes de **Satisfacción de Restricciones (CSP)**. Puedes ejecutar la celda a continuación para ver como se combinan AC3 y bracktracking.\n"
   ]
  },
  {
   "cell_type": "code",
   "execution_count": 10,
   "id": "77f56418-bcad-4e45-893d-91ad2ad0cd09",
   "metadata": {
    "editable": true,
    "slideshow": {
     "slide_type": ""
    },
    "tags": []
   },
   "outputs": [],
   "source": [
    "def backtrack_mac(asignacion, vecinos, dominios):\n",
    "    \"\"\"Implementa Backtracking con AC-3 tras cada asignación.\"\"\"\n",
    "    # Si todas las regiones están asignadas, se ha encontrado solución    \n",
    "    if len(asignacion) == len(vecinos):\n",
    "        return asignacion\n",
    "\n",
    "    # Seleccionar siguiente región sin asignar\n",
    "    region = [v for v in vecinos if v not in asignacion][0]\n",
    "\n",
    "    for color in dominios[region]:\n",
    "        if es_consistente(region, color, asignacion, vecinos):\n",
    "            # Asignamos temporalmente\n",
    "            asignacion[region] = color\n",
    "            # Clonamos dominios y reducimos según la asignación actual\n",
    "            nuevos_dominios = {v: list(dominios[v]) for v in dominios}\n",
    "            nuevos_dominios[region] = [color]\n",
    "            # Aplicamos AC-3 localmente\n",
    "            if ac3(asignacion, nuevos_dominios, vecinos):\n",
    "                resultado = backtrack_mac(asignacion, vecinos, nuevos_dominios) \n",
    "               \n",
    "                if resultado:\n",
    "                    return resultado\n",
    "                    \n",
    "            # Retroceso\n",
    "            del asignacion[region]\n",
    "    return None"
   ]
  },
  {
   "cell_type": "code",
   "execution_count": 11,
   "id": "095455fa-59a9-41f5-8c98-6a0181d5a8de",
   "metadata": {
    "editable": false,
    "slideshow": {
     "slide_type": ""
    },
    "tags": []
   },
   "outputs": [
    {
     "name": "stdout",
     "output_type": "stream",
     "text": [
      "✅ Solución encontrada con Backtracking + AC-3 (MAC):\n",
      "   WA: verde\n",
      "   NT: rojo\n",
      "   SA: azul\n",
      "   Q: verde\n",
      "   NSW: rojo\n",
      "   V: verde\n",
      "   T: rojo\n"
     ]
    }
   ],
   "source": [
    "# --- Ejecución del algoritmo ---\n",
    "dominios = {var: [\"rojo\", \"verde\", \"azul\"] for var in variables}\n",
    "dominios[\"WA\"] = [\"verde\"]\n",
    "solucion = backtrack_mac({}, vecinos, dominios)\n",
    "\n",
    "# --- Mostrar resultado ---\n",
    "if solucion:\n",
    "    print(\"✅ Solución encontrada con Backtracking + AC-3 (MAC):\")\n",
    "    for region, color in solucion.items():\n",
    "        print(f\"   {region}: {color}\")\n",
    "else:\n",
    "    print(\"❌ No se encontró una solución.\")"
   ]
  },
  {
   "cell_type": "markdown",
   "id": "f6c3df04-5ee7-4615-b6d8-f4ed482e991c",
   "metadata": {
    "editable": true,
    "slideshow": {
     "slide_type": ""
    },
    "tags": []
   },
   "source": [
    "## Conclusiones\n",
    "\n",
    "1. **AC-3 elimina valores inconsistentes** de los dominios antes o durante la búsqueda, reduciendo el espacio de soluciones posibles.  \n",
    "2. La función `remove_inconsistent_values()` es clave para mantener la **consistencia de arcos**, eliminando valores que no tienen soporte en las variables vecinas.   \n",
    "4. Combinado con Backtracking, AC-3 mejora la eficiencia sin sacrificar la corrección del proceso de búsqueda.\n"
   ]
  },
  {
   "cell_type": "markdown",
   "id": "bbcdcec1-fc41-46d6-8eea-8d0d6d8d0719",
   "metadata": {
    "editable": true,
    "slideshow": {
     "slide_type": ""
    },
    "tags": []
   },
   "source": [
    "## Referencias\n",
    "\n",
    "[1] Russell, S., & Norvig, P.: **Artificial Intelligence: A Modern Approach**. Pearson, Upper Saddle River, 4th edition, 2020, ISBN 978-0134610993.\n",
    "\n",
    "[2] **Material didáctico y ejercicios sobre Problemas de Satisfacción de Restricciones (CSP)**.\n",
    "[https://inst.eecs.berkeley.edu/~cs188/textbook/csp/](https://inst.eecs.berkeley.edu/~cs188/textbook/csp/)\n",
    "\n",
    "[3] **Ejemplo de código para el problema de coloreado de mapas (CSP)**.\n",
    "[https://github.com/ahforoughi/map_coloring_csp/tree/main](https://github.com/ahforoughi/map_coloring_csp/tree/main)"
   ]
  }
 ],
 "metadata": {
  "kernelspec": {
   "display_name": "Python 3",
   "language": "python",
   "name": "python3"
  },
  "language_info": {
   "codemirror_mode": {
    "name": "ipython",
    "version": 3
   },
   "file_extension": ".py",
   "mimetype": "text/x-python",
   "name": "python",
   "nbconvert_exporter": "python",
   "pygments_lexer": "ipython3",
   "version": "3.11.2"
  }
 },
 "nbformat": 4,
 "nbformat_minor": 5
}
